{
 "cells": [
  {
   "cell_type": "code",
   "execution_count": 1,
   "metadata": {},
   "outputs": [
    {
     "name": "stderr",
     "output_type": "stream",
     "text": [
      "PROJ: proj_create_from_database: Cannot find proj.db\n"
     ]
    }
   ],
   "source": [
    "import rasterio as rio\n",
    "from rasterio.enums import Resampling\n",
    "from rasterio import Affine, MemoryFile\n",
    "import numpy as np\n",
    "import os\n",
    "import fiona\n",
    "import rasterio.mask"
   ]
  },
  {
   "cell_type": "code",
   "execution_count": 2,
   "metadata": {},
   "outputs": [],
   "source": [
    "def resample(i_n,ip,op,res):\n",
    "#     i_n=os.listdir(ip)# here i_n is file name and ip is folder(input), op is output folder name\n",
    "#     for i in i_n:\n",
    "        with rio.open(os.path.join(ip,i_n)) as raster:\n",
    "            x,y= raster.res\n",
    "            d_x=x/res\n",
    "            d_y=y/res\n",
    "            scale=d_x\n",
    "            t = raster.transform\n",
    "\n",
    "    # rescale the metadata\n",
    "            transform = Affine(t.a / scale, t.b, t.c, t.d, t.e / scale, t.f)\n",
    "            height = raster.height * scale\n",
    "            width = raster.width * scale\n",
    "\n",
    "            profile = raster.profile\n",
    "            profile.update(transform=transform, driver='GTiff', height=height, width=width)\n",
    "\n",
    "            data = raster.read( # Note changed order of indexes, arrays are band, row, col order not row, col, band\n",
    "                out_shape=(raster.count, int(height), int(width)),\n",
    "                resampling=Resampling.bilinear,\n",
    "                )\n",
    "        o_n=i_n+'_resample.tif'\n",
    "        raster.close()\n",
    "        with rio.open(os.path.join(op,o_n),'w',**profile) as dataset:\n",
    "            dataset.write(data)\n",
    "        dataset.close()\n"
   ]
  },
  {
   "cell_type": "code",
   "execution_count": 6,
   "metadata": {},
   "outputs": [],
   "source": [
    "def crop_sh(ip,op):\n",
    "#ip is input folder and op is output folder   \n",
    "  \n",
    "        with fiona.open(r\"D:\\IndianWGC84\\WGC84india.shp\") as shapefile:\n",
    "            shapes = [feature[\"geometry\"] for feature in shapefile]\n",
    "        fn=os.listdir(ip)\n",
    "        for i in fn:\n",
    "            with rio.open(os.path.join(ip,i),'r+')as src:\n",
    "                out_image, out_transform = rasterio.mask.mask(src, shapes, crop= True)\n",
    "                out_meta = src.meta\n",
    "            out_meta.update({\"driver\": \"GTiff\",\n",
    "                 \"height\": out_image.shape[1],\n",
    "                 \"width\": out_image.shape[2],\n",
    "                 \"transform\": out_transform})\n",
    "            o_n=i.split(\".tif\")[0]+'_crop.tif'\n",
    "            with rio.open(os.path.join(op,o_n), \"w\", **out_meta) as dest:\n",
    "                dest.write(out_image)"
   ]
  },
  {
   "cell_type": "code",
   "execution_count": 4,
   "metadata": {},
   "outputs": [],
   "source": [
    "def crop_shf(shf,ipf,op):\n",
    "# shf is the shape file ipf is the input file and op is output folder   \n",
    "  \n",
    "        with fiona.open(shf) as shapefile:\n",
    "            shapes = [feature[\"geometry\"] for feature in shapefile]\n",
    "\n",
    "        with rio.open(ipf,'r+')as src:\n",
    "            out_image, out_transform = rasterio.mask.mask(src, shapes, crop=True)\n",
    "            out_meta = src.meta\n",
    "        out_meta.update({\"driver\": \"GTiff\",\n",
    "             \"height\": out_image.shape[1],\n",
    "             \"width\": out_image.shape[2],\n",
    "             \"transform\": out_transform})\n",
    "        n=ipf.split(\"\\\\\")[-1]\n",
    "        o_n=n.split('.jp2')[0]+'_crop.tif'\n",
    "\n",
    "        with rio.open(os.path.join(op,o_n), \"w\", **out_meta) as dest:\n",
    "            dest.write(out_image)"
   ]
  },
  {
   "cell_type": "code",
   "execution_count": 6,
   "metadata": {},
   "outputs": [],
   "source": [
    "def splitband(ip,op_412,op_443):#input folder opfolders\n",
    "    i_n=os.listdir(ip)\n",
    "    for i in i_n:\n",
    "        with rio.open(os.path.join(ip,i)) as srs:\n",
    "            pr=srs.profile\n",
    "            pr.update(count='1')\n",
    "            l_412=srs.read(1)\n",
    "            l_443=srs.read(2)\n",
    "        o_n412=i+\"412.tif\"\n",
    "        o_n443=i+\"443.tif\"\n",
    "        with rio.open(os.path.join(op_412,o_n412),'w',**pr) as w412:\n",
    "            w412.write(l_412,1)\n",
    "        with rio.open(os.path.join(op_443,o_n443),'w',**pr) as w443:\n",
    "            w443.write(l_443,1)\n",
    "        \n",
    "#"
   ]
  },
  {
   "cell_type": "code",
   "execution_count": null,
   "metadata": {},
   "outputs": [],
   "source": []
  },
  {
   "cell_type": "code",
   "execution_count": 9,
   "metadata": {},
   "outputs": [],
   "source": [
    "ip=r\"F:\\ocm-tiff\\16may2018\"\n",
    "op_412=r\"F:\\ocmtiff_412\\16may2018\"\n",
    "op_443=r\"F:\\ocmtif_443\\16may2018\"\n",
    "splitband(ip,op_412,op_443)"
   ]
  },
  {
   "cell_type": "code",
   "execution_count": 10,
   "metadata": {},
   "outputs": [],
   "source": [
    "in_412=r\"F:\\ocmtiff_412\\16may2018\"\n",
    "in_443=r\"F:\\ocmtif_443\\16may2018\"\n",
    "out412=r\"F:\\ocm_resampled412\\16may2018\"\n",
    "out443=r\"F:\\ocm_resampled443\\16may2018\"\n",
    "i_n412= os.listdir(in_412)\n",
    "i_n443=os.listdir(in_443)\n",
    "for i in i_n412:\n",
    "    resample(i,in_412,out412)\n",
    "for i in i_n443:\n",
    "    resample(i,in_443,out443)\n",
    "\n",
    "    "
   ]
  },
  {
   "cell_type": "code",
   "execution_count": 3,
   "metadata": {},
   "outputs": [
    {
     "name": "stdout",
     "output_type": "stream",
     "text": [
      "(10.0, 10.0)\n"
     ]
    }
   ],
   "source": [
    "\n",
    "with rio.open(r\"D:\\npk\\20181003\\crop\\R10m\\T16TCM_20181003T164121_B02_crop.tif\") as r:\n",
    "    print(r.res)"
   ]
  },
  {
   "cell_type": "code",
   "execution_count": 5,
   "metadata": {},
   "outputs": [],
   "source": [
    "op=r\"F:\\mtech_project_data\\cropped\\15jun2018\"\n",
    "ip=r\"F:\\mtech_project_data\\mosaiced\\15jun2018\"\n",
    "crop_sh(ip,op)\n"
   ]
  },
  {
   "cell_type": "code",
   "execution_count": null,
   "metadata": {},
   "outputs": [],
   "source": [
    "files=[r\"D:\\npk\\20181003\\crop\\R10m\\T16TCM_20181003T164121_B02_crop.tif\",r\"D:\\npk\\20181003\\crop\\R10m\\T16TCM_20181003T164121_B03_crop.tif\",r\"D:\\npk\\20181003\\crop\\R10m\\T16TCM_20181003T164121_B04_crop.tif\",r\"D:\\npk\\20181003\\crop\\R10m\\T16TCM_20181003T164121_B08_crop.tif\"]"
   ]
  }
 ],
 "metadata": {
  "kernelspec": {
   "display_name": "Python 3",
   "language": "python",
   "name": "python3"
  },
  "language_info": {
   "codemirror_mode": {
    "name": "ipython",
    "version": 3
   },
   "file_extension": ".py",
   "mimetype": "text/x-python",
   "name": "python",
   "nbconvert_exporter": "python",
   "pygments_lexer": "ipython3",
   "version": "3.6.13"
  }
 },
 "nbformat": 4,
 "nbformat_minor": 4
}
